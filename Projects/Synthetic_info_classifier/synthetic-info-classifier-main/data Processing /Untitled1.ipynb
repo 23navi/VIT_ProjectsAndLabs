{
 "cells": [
  {
   "cell_type": "code",
   "execution_count": 1,
   "id": "0f6285b6",
   "metadata": {},
   "outputs": [],
   "source": [
    "import pandas as pd\n",
    "import json"
   ]
  },
  {
   "cell_type": "code",
   "execution_count": 2,
   "id": "532f35a8",
   "metadata": {},
   "outputs": [],
   "source": [
    "df= pd.read_csv(\"train.csv\")"
   ]
  },
  {
   "cell_type": "code",
   "execution_count": 3,
   "id": "b7c667cf",
   "metadata": {},
   "outputs": [
    {
     "data": {
      "text/plain": [
       "id        0\n",
       "title     0\n",
       "author    0\n",
       "text      0\n",
       "label     0\n",
       "dtype: int64"
      ]
     },
     "execution_count": 3,
     "metadata": {},
     "output_type": "execute_result"
    }
   ],
   "source": [
    "df=df.dropna() \n",
    "df.isnull().sum(axis = 0)\n"
   ]
  },
  {
   "cell_type": "code",
   "execution_count": 8,
   "id": "2af55ebc",
   "metadata": {},
   "outputs": [],
   "source": [
    "column_name=(df.columns).to_list()"
   ]
  },
  {
   "cell_type": "code",
   "execution_count": 9,
   "id": "70195d64",
   "metadata": {},
   "outputs": [
    {
     "data": {
      "text/plain": [
       "['title', 'author', 'text', 'label']"
      ]
     },
     "execution_count": 9,
     "metadata": {},
     "output_type": "execute_result"
    }
   ],
   "source": [
    "column_name=column_name[1:]\n",
    "column_name"
   ]
  },
  {
   "cell_type": "code",
   "execution_count": 10,
   "id": "e5258bea",
   "metadata": {},
   "outputs": [],
   "source": [
    "#number_of_rows= df[df.columns[0]].count()\n",
    "number_of_rows=False\n",
    "df['label'] = df['label'].map(str)\n",
    "#number_of_rows"
   ]
  },
  {
   "cell_type": "code",
   "execution_count": 13,
   "id": "26046ce8",
   "metadata": {},
   "outputs": [
    {
     "name": "stdout",
     "output_type": "stream",
     "text": [
      "Done\n"
     ]
    }
   ],
   "source": [
    "arr=[]\n",
    "for row in range(number_of_rows or 100):\n",
    "    forZip=[]\n",
    "    for i in column_name:\n",
    "        forZip.append(df.iloc[row][i])\n",
    "    arr.append({k:v for (k,v) in zip(column_name,forZip)})\n",
    "print(\"Done\")\n"
   ]
  },
  {
   "cell_type": "code",
   "execution_count": null,
   "id": "7d019c9d",
   "metadata": {},
   "outputs": [],
   "source": []
  },
  {
   "cell_type": "code",
   "execution_count": 15,
   "id": "9e686e08",
   "metadata": {},
   "outputs": [],
   "source": [
    "import json\n",
    "with open('data1.json', 'w') as f:\n",
    "    json.dump(arr, f)"
   ]
  },
  {
   "cell_type": "code",
   "execution_count": null,
   "id": "31ffeed7",
   "metadata": {},
   "outputs": [],
   "source": []
  }
 ],
 "metadata": {
  "kernelspec": {
   "display_name": "Python 3",
   "language": "python",
   "name": "python3"
  },
  "language_info": {
   "codemirror_mode": {
    "name": "ipython",
    "version": 3
   },
   "file_extension": ".py",
   "mimetype": "text/x-python",
   "name": "python",
   "nbconvert_exporter": "python",
   "pygments_lexer": "ipython3",
   "version": "3.7.10"
  }
 },
 "nbformat": 4,
 "nbformat_minor": 5
}
